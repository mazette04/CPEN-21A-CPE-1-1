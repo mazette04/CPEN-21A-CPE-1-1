{
  "nbformat": 4,
  "nbformat_minor": 0,
  "metadata": {
    "colab": {
      "provenance": [],
      "authorship_tag": "ABX9TyNGV+f04a7pkuSacIm8oBLc",
      "include_colab_link": true
    },
    "kernelspec": {
      "name": "python3",
      "display_name": "Python 3"
    },
    "language_info": {
      "name": "python"
    }
  },
  "cells": [
    {
      "cell_type": "markdown",
      "metadata": {
        "id": "view-in-github",
        "colab_type": "text"
      },
      "source": [
        "<a href=\"https://colab.research.google.com/github/mazette04/CPEN-21A-CPE-1-1/blob/main/Intro_to_Python.ipynb\" target=\"_parent\"><img src=\"https://colab.research.google.com/assets/colab-badge.svg\" alt=\"Open In Colab\"/></a>"
      ]
    },
    {
      "cell_type": "markdown",
      "source": [
        "Comment"
      ],
      "metadata": {
        "id": "Is8ipeBp8EQi"
      }
    },
    {
      "cell_type": "code",
      "source": [
        "# This is a comment\n",
        "print(\"Hello, world\")"
      ],
      "metadata": {
        "colab": {
          "base_uri": "https://localhost:8080/"
        },
        "id": "yjQu3mkx8t4c",
        "outputId": "ff1739a7-9625-4ba3-b9b0-a29b2e91520c"
      },
      "execution_count": 2,
      "outputs": [
        {
          "output_type": "stream",
          "name": "stdout",
          "text": [
            "Hello, world\n"
          ]
        }
      ]
    },
    {
      "cell_type": "markdown",
      "source": [
        "Python Variable"
      ],
      "metadata": {
        "id": "Gd3m-jip-Cf9"
      }
    },
    {
      "cell_type": "code",
      "source": [
        "#Single variable\n",
        "a = float(10)\n",
        "b = -1\n",
        "\n",
        "#multiple variables\n",
        "a,b = float(8),-1\n",
        "\n",
        "\n",
        "#string type\n",
        "\n",
        "c = \"Ela\""
      ],
      "metadata": {
        "id": "cnosbVE5-IJ6"
      },
      "execution_count": 25,
      "outputs": []
    },
    {
      "cell_type": "code",
      "source": [
        "print(a)\n",
        "\n",
        "#string type\n",
        "\n",
        "c = str(\"Ela\")\n",
        "c\n",
        "\n",
        "print(c)\n",
        "print(c)\n",
        "print(c)\n",
        "\n",
        "\n",
        "\n",
        "\n"
      ],
      "metadata": {
        "colab": {
          "base_uri": "https://localhost:8080/"
        },
        "id": "nnlOrdQa-lh5",
        "outputId": "a32b2ad2-8a38-4d6b-c54e-c2f5e14aeb79"
      },
      "execution_count": 27,
      "outputs": [
        {
          "output_type": "stream",
          "name": "stdout",
          "text": [
            "8.0\n",
            "Ela\n",
            "Ela\n",
            "Ela\n"
          ]
        }
      ]
    },
    {
      "cell_type": "code",
      "source": [
        "Type () function"
      ],
      "metadata": {
        "id": "kV3SmW3TA3Pj"
      },
      "execution_count": null,
      "outputs": []
    },
    {
      "cell_type": "code",
      "source": [
        "print(type(c))"
      ],
      "metadata": {
        "colab": {
          "base_uri": "https://localhost:8080/"
        },
        "id": "aDRSuL1GA6Gj",
        "outputId": "efa0f2b4-0804-4809-f376-211c6b55fd33"
      },
      "execution_count": 30,
      "outputs": [
        {
          "output_type": "stream",
          "name": "stdout",
          "text": [
            "<class 'str'>\n"
          ]
        }
      ]
    },
    {
      "cell_type": "code",
      "source": [
        "#Proper Indentation\n",
        "\n",
        "if 5>2:\n",
        "  print(\"5 is greater than 1\")"
      ],
      "metadata": {
        "colab": {
          "base_uri": "https://localhost:8080/"
        },
        "id": "Tj5Fv0BYBQEC",
        "outputId": "a4a20b7c-85bc-4a38-84db-4712cd257d50"
      },
      "execution_count": 32,
      "outputs": [
        {
          "output_type": "stream",
          "name": "stdout",
          "text": [
            "5 is greater than 1\n"
          ]
        }
      ]
    },
    {
      "cell_type": "markdown",
      "source": [
        "Single and Double Quote"
      ],
      "metadata": {
        "id": "htGZAZ37Buka"
      }
    },
    {
      "cell_type": "code",
      "source": [
        "f = \"Jane\"\n",
        "g = 'Jane'\n",
        "\n",
        "print(f)\n",
        "print(g)"
      ],
      "metadata": {
        "colab": {
          "base_uri": "https://localhost:8080/"
        },
        "id": "ufCu_5tfBwvw",
        "outputId": "bd5444fc-9a76-4f16-cd0d-c441b47f3507"
      },
      "execution_count": 33,
      "outputs": [
        {
          "output_type": "stream",
          "name": "stdout",
          "text": [
            "Jane\n",
            "Jane\n"
          ]
        }
      ]
    },
    {
      "cell_type": "markdown",
      "source": [
        "Multiple Variables"
      ],
      "metadata": {
        "id": "w0b_Mlr2CKge"
      }
    },
    {
      "cell_type": "code",
      "source": [
        "x,y,z = 1,2,3\n",
        "\n",
        "print(x)\n",
        "print(y)\n",
        "print(z)"
      ],
      "metadata": {
        "colab": {
          "base_uri": "https://localhost:8080/"
        },
        "id": "T3s5O1SGCNkh",
        "outputId": "2acda828-70ca-4fd1-de54-a97c29958ce5"
      },
      "execution_count": 34,
      "outputs": [
        {
          "output_type": "stream",
          "name": "stdout",
          "text": [
            "1\n",
            "2\n",
            "3\n"
          ]
        }
      ]
    },
    {
      "cell_type": "markdown",
      "source": [
        "Single Values to Multiple Variables"
      ],
      "metadata": {
        "id": "6ubOeThgCcbI"
      }
    },
    {
      "cell_type": "code",
      "source": [
        "x=y=z=\"python\"\n",
        "print(x)\n",
        "print(y)\n",
        "print(z)"
      ],
      "metadata": {
        "colab": {
          "base_uri": "https://localhost:8080/"
        },
        "id": "cAbL_1AHCihl",
        "outputId": "f68eaf66-d407-46da-9d30-caeea11855f5"
      },
      "execution_count": 35,
      "outputs": [
        {
          "output_type": "stream",
          "name": "stdout",
          "text": [
            "python\n",
            "python\n",
            "python\n"
          ]
        }
      ]
    },
    {
      "cell_type": "markdown",
      "source": [
        "Output Variables"
      ],
      "metadata": {
        "id": "V04dw8PhC53v"
      }
    },
    {
      "cell_type": "code",
      "source": [
        "x = \"enjoying\"\n",
        "y = \"Python Programming is\"\n",
        "\n",
        "print(y+\" \" + x)"
      ],
      "metadata": {
        "colab": {
          "base_uri": "https://localhost:8080/"
        },
        "id": "jGiB4gbgC8l5",
        "outputId": "49a1b285-00a0-4417-8ac4-b2f9e9ea49c8"
      },
      "execution_count": 41,
      "outputs": [
        {
          "output_type": "stream",
          "name": "stdout",
          "text": [
            "Python Programming is enjoying\n"
          ]
        }
      ]
    },
    {
      "cell_type": "markdown",
      "source": [
        "Arithmetic Operations\n"
      ],
      "metadata": {
        "id": "2-buRxZgEYjy"
      }
    },
    {
      "cell_type": "code",
      "source": [
        "a = 3%2\n",
        "print(a)\n",
        "b = 3//2\n",
        "print(b)\n",
        "\n",
        "c = 7\n",
        "print(c**2)\n",
        "\n"
      ],
      "metadata": {
        "colab": {
          "base_uri": "https://localhost:8080/"
        },
        "id": "0ex3TYjwEbtI",
        "outputId": "d24e7153-4c4b-4e18-86c1-21e606e32514"
      },
      "execution_count": 49,
      "outputs": [
        {
          "output_type": "stream",
          "name": "stdout",
          "text": [
            "1\n",
            "1\n",
            "49\n"
          ]
        }
      ]
    },
    {
      "cell_type": "markdown",
      "source": [
        "Assignment Operators"
      ],
      "metadata": {
        "id": "eYO9Xlq9GQj_"
      }
    },
    {
      "cell_type": "code",
      "source": [
        "c = 5\n",
        "c+=3    # c = c+3  , c = 5+3\n",
        "print(c)\n"
      ],
      "metadata": {
        "colab": {
          "base_uri": "https://localhost:8080/"
        },
        "id": "cq0xx9gYFzfI",
        "outputId": "fac78e51-3abe-44e0-8bdc-b3fee722dd92"
      },
      "execution_count": 50,
      "outputs": [
        {
          "output_type": "stream",
          "name": "stdout",
          "text": [
            "8\n"
          ]
        }
      ]
    },
    {
      "cell_type": "markdown",
      "source": [
        "Comparison Operators\n",
        "\n"
      ],
      "metadata": {
        "id": "0-R_34S4GaoK"
      }
    },
    {
      "cell_type": "code",
      "source": [
        "i=5>2   #True\n",
        "h = 3>5 #False\n",
        "print(i)\n",
        "print(h)\n",
        "\n",
        "not(i or h)"
      ],
      "metadata": {
        "colab": {
          "base_uri": "https://localhost:8080/"
        },
        "id": "3a-zYNEXGfIi",
        "outputId": "17e58e56-521e-4f8a-9101-81551b4884d7"
      },
      "execution_count": 56,
      "outputs": [
        {
          "output_type": "stream",
          "name": "stdout",
          "text": [
            "True\n",
            "False\n"
          ]
        },
        {
          "output_type": "execute_result",
          "data": {
            "text/plain": [
              "False"
            ]
          },
          "metadata": {},
          "execution_count": 56
        }
      ]
    },
    {
      "cell_type": "markdown",
      "source": [
        "Identity Operators"
      ],
      "metadata": {
        "id": "JTn7CWzTHRng"
      }
    },
    {
      "cell_type": "code",
      "source": [
        "i is not h"
      ],
      "metadata": {
        "colab": {
          "base_uri": "https://localhost:8080/"
        },
        "id": "x7B1L7AcHTg5",
        "outputId": "ad112dfa-e3eb-46e4-d502-e42ce71a013e"
      },
      "execution_count": 58,
      "outputs": [
        {
          "output_type": "execute_result",
          "data": {
            "text/plain": [
              "True"
            ]
          },
          "metadata": {},
          "execution_count": 58
        }
      ]
    },
    {
      "cell_type": "markdown",
      "source": [
        "Bitwise Operators"
      ],
      "metadata": {
        "id": "ohbyK9BNHugH"
      }
    },
    {
      "cell_type": "code",
      "source": [
        "v = 10\n",
        "v<<2\n",
        "\n",
        "y = 2\n",
        "\n",
        "y>>1\n",
        "\n"
      ],
      "metadata": {
        "colab": {
          "base_uri": "https://localhost:8080/"
        },
        "id": "S5PW6XkxHxsv",
        "outputId": "44234955-29fc-4045-e271-debc5374d7d6"
      },
      "execution_count": 61,
      "outputs": [
        {
          "output_type": "execute_result",
          "data": {
            "text/plain": [
              "1"
            ]
          },
          "metadata": {},
          "execution_count": 61
        }
      ]
    }
  ]
}