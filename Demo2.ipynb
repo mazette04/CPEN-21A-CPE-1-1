{
  "nbformat": 4,
  "nbformat_minor": 0,
  "metadata": {
    "colab": {
      "name": "Demo2.ipynb",
      "provenance": [],
      "authorship_tag": "ABX9TyMqlWDLnV5rNOE2B0bGloWv",
      "include_colab_link": true
    },
    "kernelspec": {
      "name": "python3",
      "display_name": "Python 3"
    },
    "language_info": {
      "name": "python"
    }
  },
  "cells": [
    {
      "cell_type": "markdown",
      "metadata": {
        "id": "view-in-github",
        "colab_type": "text"
      },
      "source": [
        "<a href=\"https://colab.research.google.com/github/mazette04/CPEN-21A-CPE-1-1/blob/main/Demo2.ipynb\" target=\"_parent\"><img src=\"https://colab.research.google.com/assets/colab-badge.svg\" alt=\"Open In Colab\"/></a>"
      ]
    },
    {
      "cell_type": "markdown",
      "metadata": {
        "id": "c89xmXayXjxc"
      },
      "source": [
        "###Introduction to Python Programming"
      ]
    },
    {
      "cell_type": "code",
      "metadata": {
        "colab": {
          "base_uri": "https://localhost:8080/"
        },
        "id": "wPcaba6IXL3Q",
        "outputId": "2f1e3647-e958-4bd6-bf88-959c88400dc8"
      },
      "source": [
        "b = \"Sally\"\n",
        "print(type(b))"
      ],
      "execution_count": 6,
      "outputs": [
        {
          "output_type": "stream",
          "name": "stdout",
          "text": [
            "<class 'str'>\n"
          ]
        }
      ]
    },
    {
      "cell_type": "markdown",
      "metadata": {
        "id": "dtnOM-SYaOCC"
      },
      "source": [
        "##Naming Variables"
      ]
    },
    {
      "cell_type": "code",
      "metadata": {
        "colab": {
          "base_uri": "https://localhost:8080/"
        },
        "id": "5DLLtxUOZy-L",
        "outputId": "080babba-a659-49b1-9ed2-dd858a6383ba"
      },
      "source": [
        "a = 'Sally'\n",
        "A = \"John\"\n",
        "print(a)\n",
        "print(A)"
      ],
      "execution_count": 10,
      "outputs": [
        {
          "output_type": "stream",
          "name": "stdout",
          "text": [
            "Sally\n",
            "John\n"
          ]
        }
      ]
    },
    {
      "cell_type": "code",
      "metadata": {
        "colab": {
          "base_uri": "https://localhost:8080/"
        },
        "id": "jFxKwBGHYabP",
        "outputId": "5c15ad6f-a4f9-4ee7-9191-50defa82f077"
      },
      "source": [
        "a, b, c = 0, 1, 2\n",
        "print(type(a))       #This is a program using type function\n",
        "print(b)\n",
        "print(c)"
      ],
      "execution_count": 13,
      "outputs": [
        {
          "output_type": "stream",
          "name": "stdout",
          "text": [
            "<class 'int'>\n",
            "1\n",
            "2\n"
          ]
        }
      ]
    },
    {
      "cell_type": "code",
      "metadata": {
        "colab": {
          "base_uri": "https://localhost:8080/"
        },
        "id": "SHdDnhsRY2CX",
        "outputId": "392c680c-9422-4555-c1df-aa05a64ad39a"
      },
      "source": [
        "a = 4.50\n",
        "print(type(a))"
      ],
      "execution_count": 15,
      "outputs": [
        {
          "output_type": "stream",
          "name": "stdout",
          "text": [
            "<class 'float'>\n"
          ]
        }
      ]
    },
    {
      "cell_type": "markdown",
      "metadata": {
        "id": "aMsPvoT7a9aZ"
      },
      "source": [
        "###One Value to Multiple Variables"
      ]
    },
    {
      "cell_type": "code",
      "metadata": {
        "colab": {
          "base_uri": "https://localhost:8080/"
        },
        "id": "a2Q7p26SbFZQ",
        "outputId": "61b46eac-18b9-4d8a-abf7-439dcce2e9d6"
      },
      "source": [
        "x = y = z =\"four\"\n",
        "print(x)\n",
        "print(y)\n",
        "print(z)"
      ],
      "execution_count": 16,
      "outputs": [
        {
          "output_type": "stream",
          "name": "stdout",
          "text": [
            "four\n",
            "four\n",
            "four\n"
          ]
        }
      ]
    },
    {
      "cell_type": "code",
      "metadata": {
        "colab": {
          "base_uri": "https://localhost:8080/"
        },
        "id": "IFnhFPdybe2t",
        "outputId": "0c0796ce-5fa9-4b29-fe20-468310e9d74b"
      },
      "source": [
        "x = \"enjoying\"\n",
        "print('Python programming is'+\" \"+ x)"
      ],
      "execution_count": 18,
      "outputs": [
        {
          "output_type": "stream",
          "name": "stdout",
          "text": [
            "Python programming is enjoying\n"
          ]
        }
      ]
    },
    {
      "cell_type": "code",
      "metadata": {
        "colab": {
          "base_uri": "https://localhost:8080/"
        },
        "id": "4q0n7WARcOws",
        "outputId": "1d3e5928-0334-410b-bf10-b55239fff033"
      },
      "source": [
        "x = 4\n",
        "y = 5\n",
        "print(x+y)\n",
        "print(x-y)"
      ],
      "execution_count": 20,
      "outputs": [
        {
          "output_type": "stream",
          "name": "stdout",
          "text": [
            "9\n",
            "-1\n"
          ]
        }
      ]
    },
    {
      "cell_type": "code",
      "metadata": {
        "colab": {
          "base_uri": "https://localhost:8080/"
        },
        "id": "MSsYKfZSccdU",
        "outputId": "9eb931c2-4575-479c-f0fe-ca06bff902f1"
      },
      "source": [
        "not(x>y or x==x)  #This is an example of program using logical operator"
      ],
      "execution_count": 28,
      "outputs": [
        {
          "output_type": "execute_result",
          "data": {
            "text/plain": [
              "False"
            ]
          },
          "metadata": {},
          "execution_count": 28
        }
      ]
    }
  ]
}