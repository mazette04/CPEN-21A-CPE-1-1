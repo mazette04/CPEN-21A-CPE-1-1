{
  "nbformat": 4,
  "nbformat_minor": 0,
  "metadata": {
    "colab": {
      "provenance": [],
      "authorship_tag": "ABX9TyM6o1nxSJ9tsmPClKuA5VCE",
      "include_colab_link": true
    },
    "kernelspec": {
      "name": "python3",
      "display_name": "Python 3"
    },
    "language_info": {
      "name": "python"
    }
  },
  "cells": [
    {
      "cell_type": "markdown",
      "metadata": {
        "id": "view-in-github",
        "colab_type": "text"
      },
      "source": [
        "<a href=\"https://colab.research.google.com/github/mazette04/CPEN-21A-CPE-1-1/blob/main/Introduction_to_Python.ipynb\" target=\"_parent\"><img src=\"https://colab.research.google.com/assets/colab-badge.svg\" alt=\"Open In Colab\"/></a>"
      ]
    },
    {
      "cell_type": "markdown",
      "source": [
        "##Indentation\n",
        "\n",
        "\n"
      ],
      "metadata": {
        "id": "35C61GNtUCiF"
      }
    },
    {
      "cell_type": "code",
      "source": [
        "if 5>3:\n",
        "  print(\"5 is greater than 3\")   #This is a comment"
      ],
      "metadata": {
        "colab": {
          "base_uri": "https://localhost:8080/"
        },
        "id": "SiiByIicUJgK",
        "outputId": "958c0989-0518-4f52-cde7-3a0277c4bfe4"
      },
      "execution_count": 7,
      "outputs": [
        {
          "output_type": "stream",
          "name": "stdout",
          "text": [
            "5 is greater than 3\n"
          ]
        }
      ]
    },
    {
      "cell_type": "markdown",
      "source": [
        "Variable Declaration"
      ],
      "metadata": {
        "id": "ZX3pBH8cVBBY"
      }
    },
    {
      "cell_type": "code",
      "source": [
        "#variable with a single value\n",
        "\n",
        "x=5\n",
        "y=3\n",
        "if x <y:\n",
        "  print(\"x is greater than y\")\n",
        "else:\n",
        "  print(\"y is greater than x\")\n",
        "\n",
        "\n",
        "#variable with multiple values\n",
        "\n",
        "a,b = 1,2\n",
        "print(\"The value of a is:\",a)\n",
        "print(\"The value of b is:\",b)\n",
        "\n",
        "#multiple variables with a single value\n",
        "\n",
        "p = q = r = 'Mam'\n",
        "print(p)\n",
        "print(q)\n",
        "print(r)"
      ],
      "metadata": {
        "colab": {
          "base_uri": "https://localhost:8080/"
        },
        "id": "HmRhDPvbVFE_",
        "outputId": "f8682eac-9391-4924-a9ae-b0e3e38325c3"
      },
      "execution_count": 31,
      "outputs": [
        {
          "output_type": "stream",
          "name": "stdout",
          "text": [
            "y is greater than x\n",
            "The value of a is: 1\n",
            "The value of b is: 2\n",
            "Mam\n",
            "Mam\n",
            "Mam\n"
          ]
        }
      ]
    },
    {
      "cell_type": "markdown",
      "source": [
        "Output Variable"
      ],
      "metadata": {
        "id": "MGAxS5sXZf5b"
      }
    },
    {
      "cell_type": "code",
      "source": [
        "o = 'is enjoying'\n",
        "print(\"Python programming\"+\" \"+ o)   # append is enjoying"
      ],
      "metadata": {
        "colab": {
          "base_uri": "https://localhost:8080/"
        },
        "id": "rdoU21p3Zibi",
        "outputId": "312b48ad-69b1-473f-bc69-be7f3c41bb83"
      },
      "execution_count": 34,
      "outputs": [
        {
          "output_type": "stream",
          "name": "stdout",
          "text": [
            "Python programming is enjoying\n"
          ]
        }
      ]
    },
    {
      "cell_type": "markdown",
      "source": [
        "#Casting and Type() function"
      ],
      "metadata": {
        "id": "Ej4tRc-DWsIf"
      }
    },
    {
      "cell_type": "code",
      "source": [
        "f = int(4)    #integer\n",
        "g=float(4)    #decimal/fractional \n",
        "\n",
        "print(f)\n",
        "print(g)\n",
        "\n",
        "print(type(f))\n",
        "print(type(g))"
      ],
      "metadata": {
        "colab": {
          "base_uri": "https://localhost:8080/"
        },
        "id": "_dUFcHQwWv28",
        "outputId": "708d6737-9052-4d6e-f3ea-cee70489a814"
      },
      "execution_count": 18,
      "outputs": [
        {
          "output_type": "stream",
          "name": "stdout",
          "text": [
            "4\n",
            "4.0\n",
            "<class 'int'>\n",
            "<class 'float'>\n"
          ]
        }
      ]
    },
    {
      "cell_type": "markdown",
      "source": [
        "Double quote or single quote"
      ],
      "metadata": {
        "id": "y0z4b1yKXay8"
      }
    },
    {
      "cell_type": "code",
      "source": [
        "name = \"Maria\"\n",
        "name1 = 'Rizette'\n",
        "\n",
        "print(name)\n",
        "print(name1)"
      ],
      "metadata": {
        "colab": {
          "base_uri": "https://localhost:8080/"
        },
        "id": "pxSFlzQjXdu-",
        "outputId": "1a7b2adc-0fb1-4dc3-ae02-efedc304504c"
      },
      "execution_count": 22,
      "outputs": [
        {
          "output_type": "stream",
          "name": "stdout",
          "text": [
            "Maria\n",
            "Rizette\n"
          ]
        }
      ]
    },
    {
      "cell_type": "markdown",
      "source": [
        "Case Sensitive"
      ],
      "metadata": {
        "id": "7m3yQr38X_NE"
      }
    },
    {
      "cell_type": "code",
      "source": [
        "a =\"ana\"\n",
        "print(a)"
      ],
      "metadata": {
        "colab": {
          "base_uri": "https://localhost:8080/"
        },
        "id": "16JSY-ekYBCr",
        "outputId": "601e3b0f-5480-49ef-dd4d-11ed5c97b584"
      },
      "execution_count": 29,
      "outputs": [
        {
          "output_type": "stream",
          "name": "stdout",
          "text": [
            "ana\n"
          ]
        }
      ]
    }
  ]
}